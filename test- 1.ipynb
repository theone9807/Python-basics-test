{
 "cells": [
  {
   "cell_type": "markdown",
   "metadata": {},
   "source": [
    "# Python Test-1                                                                             Date-29/11/2018 "
   ]
  },
  {
   "cell_type": "markdown",
   "metadata": {},
   "source": [
    "## Question-1: Calculate Grade of Student in Python\n",
    "To calculate grade of students in python, you have to ask from user to enter marks obtained in 5 subjects and calculate the sum of all the marks and then calculate the average marks to find the grade according to the average marks obtained by student as shown in the program given below"
   ]
  },
  {
   "cell_type": "code",
   "execution_count": 5,
   "metadata": {},
   "outputs": [
    {
     "name": "stdout",
     "output_type": "stream",
     "text": [
      "enter marks in sub1: 12\n",
      "enter marks in sub2: 23\n",
      "enter marks in sub3: 23\n",
      "enter marks in sub4: 34\n",
      "enter marks in sub4: 34\n",
      "avg_marks\n"
     ]
    }
   ],
   "source": [
    "#write your program here\n",
    "sub1 = int(input(\"enter marks in sub1: \"))\n",
    "sub2 = int(input(\"enter marks in sub2: \"))\n",
    "sub3 = int(input(\"enter marks in sub3: \"))\n",
    "sub4 = int(input(\"enter marks in sub4: \"))\n",
    "sub5 = int(input(\"enter marks in sub4: \"))\n",
    "avg_marks = (sub1 + sub2 + sub3 + sub4 + sub5) / 5\n",
    "\n",
    "print(avg_marks)\n"
   ]
  },
  {
   "cell_type": "markdown",
   "metadata": {},
   "source": [
    "## Question-2: Find Factorial of Number in Python\n",
    "To find factorial of any number in python, you have to ask from user to enter the number to find and print the factorial of that number on the output screen."
   ]
  },
  {
   "cell_type": "code",
   "execution_count": 5,
   "metadata": {},
   "outputs": [
    {
     "name": "stdout",
     "output_type": "stream",
     "text": [
      " factorial of 5 is: 120\n"
     ]
    }
   ],
   "source": [
    "#write your program\n",
    "from IPython.display import clear_output\n",
    "n = int(input())\n",
    "fact = 1\n",
    "for i in range(1, n+1):\n",
    "    clear_output()\n",
    "    fact *= i\n",
    "    \n",
    "print(f\" factorial of {n} is: {fact}\")\n"
   ]
  },
  {
   "cell_type": "markdown",
   "metadata": {},
   "source": [
    "## Question-3: What does this code output:\n"
   ]
  },
  {
   "cell_type": "code",
   "execution_count": 10,
   "metadata": {},
   "outputs": [
    {
     "name": "stdout",
     "output_type": "stream",
     "text": [
      "[0, 1]\n",
      "[3, 2, 1, 0, 1, 4]\n",
      "[0, 1, 0, 1, 4]\n"
     ]
    }
   ],
   "source": [
    "def f(x,l=[]):\n",
    "    for i in range(x):\n",
    "        l.append(i*i)\n",
    "    print(l) \n",
    "\n",
    "f(2)\n",
    "f(3,[3,2,1])\n",
    "f(3)"
   ]
  },
  {
   "cell_type": "code",
   "execution_count": 3,
   "metadata": {},
   "outputs": [],
   "source": [
    "# write your answer here\n",
    "[0, 1]\n",
    "[3, 2, 1, 0, 1, 4]\n",
    "[0, 1, 4]"
   ]
  },
  {
   "cell_type": "markdown",
   "metadata": {},
   "source": [
    "## Question-4: Consider the following code, what will it output?"
   ]
  },
  {
   "cell_type": "code",
   "execution_count": 8,
   "metadata": {},
   "outputs": [
    {
     "name": "stdout",
     "output_type": "stream",
     "text": [
      "go A go!\n",
      "go A go!\n",
      "go B go!\n",
      "go A go!\n",
      "go C go!\n",
      "go A go!\n",
      "go C go!\n",
      "go B go!\n",
      "go D go!\n",
      "go A go!\n",
      "go C go!\n",
      "go B go!\n",
      "stop A stop!\n",
      "stop A stop!\n",
      "stop A stop!\n",
      "stop C stop!\n",
      "stop A stop!\n",
      "stop C stop!\n",
      "stop D stop!\n",
      "stop A stop!\n",
      "stop C stop!\n"
     ]
    },
    {
     "ename": "Exception",
     "evalue": "Not Implemented",
     "output_type": "error",
     "traceback": [
      "\u001b[1;31m---------------------------------------------------------------------------\u001b[0m",
      "\u001b[1;31mException\u001b[0m                                 Traceback (most recent call last)",
      "\u001b[1;32m<ipython-input-8-f9e9233b358e>\u001b[0m in \u001b[0;36m<module>\u001b[1;34m()\u001b[0m\n\u001b[0;32m     52\u001b[0m \u001b[0me\u001b[0m\u001b[1;33m.\u001b[0m\u001b[0mstop\u001b[0m\u001b[1;33m(\u001b[0m\u001b[1;33m)\u001b[0m\u001b[1;33m\u001b[0m\u001b[0m\n\u001b[0;32m     53\u001b[0m \u001b[1;33m\u001b[0m\u001b[0m\n\u001b[1;32m---> 54\u001b[1;33m \u001b[0ma\u001b[0m\u001b[1;33m.\u001b[0m\u001b[0mpause\u001b[0m\u001b[1;33m(\u001b[0m\u001b[1;33m)\u001b[0m\u001b[1;33m\u001b[0m\u001b[0m\n\u001b[0m\u001b[0;32m     55\u001b[0m \u001b[0mb\u001b[0m\u001b[1;33m.\u001b[0m\u001b[0mpause\u001b[0m\u001b[1;33m(\u001b[0m\u001b[1;33m)\u001b[0m\u001b[1;33m\u001b[0m\u001b[0m\n\u001b[0;32m     56\u001b[0m \u001b[0mc\u001b[0m\u001b[1;33m.\u001b[0m\u001b[0mpause\u001b[0m\u001b[1;33m(\u001b[0m\u001b[1;33m)\u001b[0m\u001b[1;33m\u001b[0m\u001b[0m\n",
      "\u001b[1;32m<ipython-input-8-f9e9233b358e>\u001b[0m in \u001b[0;36mpause\u001b[1;34m(self)\u001b[0m\n\u001b[0;32m      5\u001b[0m         \u001b[0mprint\u001b[0m\u001b[1;33m(\u001b[0m\u001b[1;34m\"stop A stop!\"\u001b[0m\u001b[1;33m)\u001b[0m\u001b[1;33m\u001b[0m\u001b[0m\n\u001b[0;32m      6\u001b[0m     \u001b[1;32mdef\u001b[0m \u001b[0mpause\u001b[0m\u001b[1;33m(\u001b[0m\u001b[0mself\u001b[0m\u001b[1;33m)\u001b[0m\u001b[1;33m:\u001b[0m\u001b[1;33m\u001b[0m\u001b[0m\n\u001b[1;32m----> 7\u001b[1;33m         \u001b[1;32mraise\u001b[0m \u001b[0mException\u001b[0m\u001b[1;33m(\u001b[0m\u001b[1;34m\"Not Implemented\"\u001b[0m\u001b[1;33m)\u001b[0m\u001b[1;33m\u001b[0m\u001b[0m\n\u001b[0m\u001b[0;32m      8\u001b[0m \u001b[1;33m\u001b[0m\u001b[0m\n\u001b[0;32m      9\u001b[0m \u001b[1;32mclass\u001b[0m \u001b[0mB\u001b[0m\u001b[1;33m(\u001b[0m\u001b[0mA\u001b[0m\u001b[1;33m)\u001b[0m\u001b[1;33m:\u001b[0m\u001b[1;33m\u001b[0m\u001b[0m\n",
      "\u001b[1;31mException\u001b[0m: Not Implemented"
     ]
    }
   ],
   "source": [
    "class A(object):\n",
    "    def go(self):\n",
    "        print(\"go A go!\")\n",
    "    def stop(self):\n",
    "        print(\"stop A stop!\")\n",
    "    def pause(self):\n",
    "        raise Exception(\"Not Implemented\")\n",
    "\n",
    "class B(A):\n",
    "    def go(self):\n",
    "        super(B, self).go()\n",
    "        print(\"go B go!\")\n",
    "\n",
    "class C(A):\n",
    "    def go(self):\n",
    "        super(C, self).go()\n",
    "        print(\"go C go!\")\n",
    "    def stop(self):\n",
    "        super(C, self).stop()\n",
    "        print(\"stop C stop!\")\n",
    "\n",
    "class D(B,C):\n",
    "    def go(self):\n",
    "        super(D, self).go()\n",
    "        print(\"go D go!\")\n",
    "    def stop(self):\n",
    "        super(D, self).stop()\n",
    "        print(\"stop D stop!\")\n",
    "    def pause(self):\n",
    "        print(\"wait D wait!\")\n",
    "\n",
    "class E(B,C): pass\n",
    "\n",
    "a = A()\n",
    "b = B()\n",
    "c = C()\n",
    "d = D()\n",
    "e = E()\n",
    "\n",
    "## specify output from here onwards\n",
    "\n",
    "a.go()\n",
    "b.go()\n",
    "c.go()\n",
    "d.go()\n",
    "e.go()\n",
    "\n",
    "a.stop()\n",
    "b.stop()\n",
    "c.stop()\n",
    "d.stop()\n",
    "e.stop()\n",
    "\n",
    "a.pause()\n",
    "b.pause()\n",
    "c.pause()\n",
    "d.pause()\n",
    "e.pause()"
   ]
  },
  {
   "cell_type": "code",
   "execution_count": 4,
   "metadata": {},
   "outputs": [],
   "source": [
    "# write your output here\n",
    "go A go!\n",
    "go A go!\n",
    "go A go!\n",
    "go B go!\n",
    "go B go!\n",
    "\n",
    "stop A stop!\n",
    "stop A stop!\n",
    "stop A stop!\n",
    "stop C stop!\n",
    "stop C stop!\n",
    "\n",
    "Not Implemented\n",
    "Not Implemented\n",
    "Not Implemented"
   ]
  },
  {
   "cell_type": "markdown",
   "metadata": {},
   "source": [
    "## Question-5: Write a program to print the list after removing the 0th, 2nd, 4th,6th numbers in [12,24,35,70,88,120,155]."
   ]
  },
  {
   "cell_type": "code",
   "execution_count": 8,
   "metadata": {},
   "outputs": [
    {
     "name": "stdout",
     "output_type": "stream",
     "text": [
      "[24, 70, 120]\n"
     ]
    }
   ],
   "source": [
    "# write your code here\n",
    "l = [12, 24, 35, 70, 88, 120, 155]\n",
    "l.remove(12)\n",
    "l.remove(35)\n",
    "l.remove(88)\n",
    "l.remove(155)\n",
    "print(l)\n",
    "\n"
   ]
  },
  {
   "cell_type": "markdown",
   "metadata": {},
   "source": [
    "## Question-6: You are assisting a researcher with Python code that computes the Body Mass Index (BMI) of patients. The researcher is concerned because all patients seemingly have unusual and identical BMIs, despite having different physiques. BMI is calculated as weight in kilograms divided by the square of height in metre."
   ]
  },
  {
   "cell_type": "code",
   "execution_count": 9,
   "metadata": {},
   "outputs": [
    {
     "name": "stdout",
     "output_type": "stream",
     "text": [
      " Enter weight in Kg: 70\n",
      "Enter height in meter: 132\n",
      "Your BMI is: 0.0040174471992653815\n"
     ]
    }
   ],
   "source": [
    "# write your code here\n",
    "weight = int(input(\" Enter weight in Kg: \"))\n",
    "height = int(input(\"Enter height in meter: \"))\n",
    "BMI = weight / (height ** 2)\n",
    "print(f\"Your BMI is: {BMI}\")"
   ]
  },
  {
   "cell_type": "markdown",
   "metadata": {},
   "source": [
    "## Question-7: Create a Temprature class. Make two methods :\n",
    "1. convertFahrenheit - It will take celsius and will print it into Fahrenheit.\n",
    "2. convertCelsius - It will take Fahrenheit and will convert it into Celsius."
   ]
  },
  {
   "cell_type": "code",
   "execution_count": 14,
   "metadata": {},
   "outputs": [
    {
     "name": "stdout",
     "output_type": "stream",
     "text": [
      "Temperature class created\n"
     ]
    }
   ],
   "source": [
    "# write your code here\n",
    "class Temp():\n",
    "    \n",
    "    def __init__(self):\n",
    "        print(\"Temperature class created\")\n",
    "        \n",
    "    def convertFahrenheit(self, c):\n",
    "        f = c * (9 / 5) + 32\n",
    "        return f\n",
    "    \n",
    "    def convertCelsius(self, t):\n",
    "        c1 =  (t - 32) * (5 / 9)\n",
    "        return c1\n",
    "    \n",
    "    \n",
    "t = Temp()"
   ]
  },
  {
   "cell_type": "markdown",
   "metadata": {},
   "source": [
    "## Question-8: Write a function called remove keys(mydict, keylist) that accepts two parameters: a dictionary called mydict and a list called keylist. remove keys(mydict, keylist) should remove all the keys contained in keylist from mydict and return the dictionary:"
   ]
  },
  {
   "cell_type": "code",
   "execution_count": 12,
   "metadata": {},
   "outputs": [],
   "source": [
    "# write your code here\n",
    "\n",
    "def remove_keys(mydict, keylist):\n",
    "    \n",
    "    for keys in keylist:\n",
    "        \n",
    "        if keys in mydict[:]:\n",
    "            mydict.remove(keys)\n",
    "    print(mydict)\n",
    "    "
   ]
  },
  {
   "cell_type": "markdown",
   "metadata": {},
   "source": [
    "## Question-9: my_str = \"Hello this Is an Example With cased letters\"\n",
    "## Write a python Program to Sort Words in Alphabetic Order."
   ]
  },
  {
   "cell_type": "code",
   "execution_count": 27,
   "metadata": {},
   "outputs": [
    {
     "name": "stdout",
     "output_type": "stream",
     "text": [
      "ExampleHelloIsWithancasedlettersthis"
     ]
    }
   ],
   "source": [
    "# write your code here\n",
    "my_str = \"Hello this Is an Example With cased letters\"\n",
    "words = my_str.split()\n",
    "words.sort()\n",
    "for w in words:\n",
    "    print(w, end = \"\")"
   ]
  },
  {
   "cell_type": "code",
   "execution_count": 22,
   "metadata": {},
   "outputs": [
    {
     "data": {
      "text/plain": [
       "'       EHIWaaacdeeeeehhiillllmnoprssssttttx'"
      ]
     },
     "execution_count": 22,
     "metadata": {},
     "output_type": "execute_result"
    }
   ],
   "source": [
    "##2nd method\n",
    "\n",
    "my_str = \"Hello this Is an Example With cased letters\"\n",
    "#sorted(my_str)        #makes list \n",
    "\"\".join(sorted(my_str))    # .join() will convert it into string    ### '_' ,\" Caps\" , \" small case\""
   ]
  },
  {
   "cell_type": "markdown",
   "metadata": {},
   "source": [
    "## Question-10: Create a function that takes a list and return the most frequently occuring element contained within it.\n",
    "[False, \"up\", \"down\", \"left\", \"right\", True, False]"
   ]
  },
  {
   "cell_type": "code",
   "execution_count": 36,
   "metadata": {},
   "outputs": [
    {
     "name": "stdout",
     "output_type": "stream",
     "text": [
      "[(False, 2), ('up', 1), ('down', 1), ('left', 1), ('right', 1), (True, 1)]\n"
     ]
    }
   ],
   "source": [
    "#write your code\n",
    "import numpy as np\n",
    "from collections import Counter\n",
    "l = [False, \"up\", \"down\", \"left\", \"right\", True, False]\n",
    "count = [item for item in Counter(l).most_common()]\n",
    "print(count)\n"
   ]
  },
  {
   "cell_type": "code",
   "execution_count": null,
   "metadata": {},
   "outputs": [],
   "source": []
  }
 ],
 "metadata": {
  "kernelspec": {
   "display_name": "Python 3",
   "language": "python",
   "name": "python3"
  },
  "language_info": {
   "codemirror_mode": {
    "name": "ipython",
    "version": 3
   },
   "file_extension": ".py",
   "mimetype": "text/x-python",
   "name": "python",
   "nbconvert_exporter": "python",
   "pygments_lexer": "ipython3",
   "version": "3.6.3rc1"
  }
 },
 "nbformat": 4,
 "nbformat_minor": 2
}
